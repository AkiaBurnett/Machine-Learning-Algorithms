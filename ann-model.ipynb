{
 "cells": [
  {
   "cell_type": "code",
   "execution_count": 1,
   "metadata": {},
   "outputs": [],
   "source": [
    "import numpy as np\n",
    "import matplotlib.pyplot as plt\n",
    "from sklearn import datasets, metrics\n",
    "from sklearn.model_selection import train_test_split\n",
    "from sklearn import preprocessing\n",
    "from sklearn.neural_network import MLPClassifier"
   ]
  },
  {
   "cell_type": "code",
   "execution_count": 5,
   "metadata": {},
   "outputs": [
    {
     "name": "stdout",
     "output_type": "stream",
     "text": [
      "The number of samples in digits dataset is 1797,the dimention of each image is8x8\n"
     ]
    }
   ],
   "source": [
    "#the digits dataset of 8x8 pixel image of digets that consists in training and target dataset\n",
    "\n",
    "digits= datasets.load_digits()\n",
    "n_samples= len(digits.images)\n",
    "dimention = digits.images[0].shape\n",
    "print(\"The number of samples in digits dataset is {0:d},the dimention of each image is{1:d}x{1:d}\".format(n_samples, dimention[0]))\n",
    "#{first postions, double}"
   ]
  },
  {
   "cell_type": "code",
   "execution_count": 7,
   "metadata": {},
   "outputs": [
    {
     "data": {
      "image/png": "[encoded data removed]",
      "text/plain": [
       "<Figure size 720x720 with 3 Axes>"
      ]
     },
     "metadata": {
      "needs_background": "light"
     },
     "output_type": "display_data"
    }
   ],
   "source": [
    "#show the first 3 images\n",
    "#using a for loop that will plor the images inthe same row next to eachother\n",
    "#model learns the pattern according to the intesity of the pizels and how its arranged \n",
    "\n",
    "_, fig = plt.subplots(nrows=1, ncols=3, figsize= (10,10))\n",
    "for ax, image, label in zip(fig, digits.images, digits.target): \n",
    "    ax.set_axis_off()\n",
    "    ax.imshow(image, cmap=plt.cm.gray_r)\n",
    "    ax.set_title(\"Train: %i\" % label)"
   ]
  },
  {
   "cell_type": "code",
   "execution_count": 8,
   "metadata": {},
   "outputs": [],
   "source": [
    "#reshape the images into a vector nx1: from 8x8 imagae to 64x1 vector\n",
    "\n",
    "data= digits.images.reshape((n_samples, -1))\n",
    "\n",
    "x_train, x_test, y_train, y_test = train_test_split(data, digits.target, test_size= 0.2, shuffle= False, random_state=42)\n",
    "\n"
   ]
  },
  {
   "cell_type": "code",
   "execution_count": 9,
   "metadata": {},
   "outputs": [],
   "source": [
    "#train the model MLPC using the training subset\n",
    "\n",
    "model= MLPClassifier(solver=\"adam\", hidden_layer_sizes=(10,12), random_state=1,max_iter=600)\n",
    "\n",
    "model.fit(x_train,y_train)\n",
    "\n",
    "classification_results= model.predict(x_test)"
   ]
  },
  {
   "cell_type": "code",
   "execution_count": 11,
   "metadata": {},
   "outputs": [
    {
     "data": {
      "image/png": "[encoded data removed]",
      "text/plain": [
       "<Figure size 720x720 with 3 Axes>"
      ]
     },
     "metadata": {
      "needs_background": "light"
     },
     "output_type": "display_data"
    }
   ],
   "source": [
    "_, fig = plt.subplots(nrows=1, ncols=3, figsize= (10,10))\n",
    "for ax, image, label in zip(fig, x_test, classification_results): \n",
    "    ax.set_axis_off()\n",
    "    image = image.reshape(8,8)\n",
    "    ax.imshow(image, cmap=plt.cm.gray_r)\n",
    "    ax.set_title(\"Prediction: %i\" % label)"
   ]
  },
  {
   "cell_type": "code",
   "execution_count": 12,
   "metadata": {},
   "outputs": [
    {
     "name": "stdout",
     "output_type": "stream",
     "text": [
      "              precision    recall  f1-score   support\n",
      "\n",
      "           0       0.97      1.00      0.99        34\n",
      "           1       0.78      0.76      0.77        37\n",
      "           2       0.91      0.91      0.91        35\n",
      "           3       0.84      0.91      0.87        34\n",
      "           4       0.92      0.89      0.91        38\n",
      "           5       0.95      0.83      0.89        42\n",
      "           6       0.92      0.94      0.93        36\n",
      "           7       0.83      0.94      0.88        32\n",
      "           8       0.76      0.81      0.78        31\n",
      "           9       0.86      0.78      0.82        41\n",
      "\n",
      "    accuracy                           0.88       360\n",
      "   macro avg       0.87      0.88      0.87       360\n",
      "weighted avg       0.88      0.88      0.87       360\n",
      "\n"
     ]
    }
   ],
   "source": [
    "print(metrics.classification_report(classification_results,y_test))"
   ]
  }
 ],
 "metadata": {
  "interpreter": {
   "hash": "247ab06e135bb35fa78c5eff31b2a9a0050dcb5fb773c2631d2a29ac689eeccb"
  },
  "kernelspec": {
   "display_name": "Python 3.9.5 64-bit",
   "language": "python",
   "name": "python3"
  },
  "language_info": {
   "codemirror_mode": {
    "name": "ipython",
    "version": 3
   },
   "file_extension": ".py",
   "mimetype": "text/x-python",
   "name": "python",
   "nbconvert_exporter": "python",
   "pygments_lexer": "ipython3",
   "version": "3.9.5"
  },
  "orig_nbformat": 4
 },
 "nbformat": 4,
 "nbformat_minor": 2
}
